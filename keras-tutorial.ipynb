{
 "cells": [
  {
   "cell_type": "markdown",
   "id": "ef3f73ca",
   "metadata": {
    "papermill": {
     "duration": 0.0051,
     "end_time": "2024-01-15T14:40:20.421241",
     "exception": false,
     "start_time": "2024-01-15T14:40:20.416141",
     "status": "completed"
    },
    "tags": []
   },
   "source": [
    "# Simple tf.keras Sequential Model"
   ]
  },
  {
   "cell_type": "markdown",
   "id": "acf5775b",
   "metadata": {
    "papermill": {
     "duration": 0.004701,
     "end_time": "2024-01-15T14:40:20.430999",
     "exception": false,
     "start_time": "2024-01-15T14:40:20.426298",
     "status": "completed"
    },
    "tags": []
   },
   "source": [
    "## Notebook Imports"
   ]
  },
  {
   "cell_type": "code",
   "execution_count": 1,
   "id": "c2285b2c",
   "metadata": {
    "_cell_guid": "b1076dfc-b9ad-4769-8c92-a6c4dae69d19",
    "_uuid": "8f2839f25d086af736a60e9eeb907d3b93b6e0e5",
    "execution": {
     "iopub.execute_input": "2024-01-15T14:40:20.441806Z",
     "iopub.status.busy": "2024-01-15T14:40:20.441422Z",
     "iopub.status.idle": "2024-01-15T14:40:33.300457Z",
     "shell.execute_reply": "2024-01-15T14:40:33.299372Z"
    },
    "papermill": {
     "duration": 12.86734,
     "end_time": "2024-01-15T14:40:33.302848",
     "exception": false,
     "start_time": "2024-01-15T14:40:20.435508",
     "status": "completed"
    },
    "tags": []
   },
   "outputs": [
    {
     "name": "stdout",
     "output_type": "stream",
     "text": [
      "Requirement already satisfied: tensorflow in /opt/conda/lib/python3.10/site-packages (2.13.0)\r\n",
      "Requirement already satisfied: absl-py>=1.0.0 in /opt/conda/lib/python3.10/site-packages (from tensorflow) (1.4.0)\r\n",
      "Requirement already satisfied: astunparse>=1.6.0 in /opt/conda/lib/python3.10/site-packages (from tensorflow) (1.6.3)\r\n",
      "Requirement already satisfied: flatbuffers>=23.1.21 in /opt/conda/lib/python3.10/site-packages (from tensorflow) (23.5.26)\r\n",
      "Requirement already satisfied: gast<=0.4.0,>=0.2.1 in /opt/conda/lib/python3.10/site-packages (from tensorflow) (0.4.0)\r\n",
      "Requirement already satisfied: google-pasta>=0.1.1 in /opt/conda/lib/python3.10/site-packages (from tensorflow) (0.2.0)\r\n",
      "Requirement already satisfied: grpcio<2.0,>=1.24.3 in /opt/conda/lib/python3.10/site-packages (from tensorflow) (1.51.1)\r\n",
      "Requirement already satisfied: h5py>=2.9.0 in /opt/conda/lib/python3.10/site-packages (from tensorflow) (3.9.0)\r\n",
      "Requirement already satisfied: keras<2.14,>=2.13.1 in /opt/conda/lib/python3.10/site-packages (from tensorflow) (2.13.1)\r\n",
      "Requirement already satisfied: libclang>=13.0.0 in /opt/conda/lib/python3.10/site-packages (from tensorflow) (16.0.6)\r\n",
      "Requirement already satisfied: numpy<=1.24.3,>=1.22 in /opt/conda/lib/python3.10/site-packages (from tensorflow) (1.24.3)\r\n",
      "Requirement already satisfied: opt-einsum>=2.3.2 in /opt/conda/lib/python3.10/site-packages (from tensorflow) (3.3.0)\r\n",
      "Requirement already satisfied: packaging in /opt/conda/lib/python3.10/site-packages (from tensorflow) (21.3)\r\n",
      "Requirement already satisfied: protobuf!=4.21.0,!=4.21.1,!=4.21.2,!=4.21.3,!=4.21.4,!=4.21.5,<5.0.0dev,>=3.20.3 in /opt/conda/lib/python3.10/site-packages (from tensorflow) (3.20.3)\r\n",
      "Requirement already satisfied: setuptools in /opt/conda/lib/python3.10/site-packages (from tensorflow) (68.1.2)\r\n",
      "Requirement already satisfied: six>=1.12.0 in /opt/conda/lib/python3.10/site-packages (from tensorflow) (1.16.0)\r\n",
      "Requirement already satisfied: tensorboard<2.14,>=2.13 in /opt/conda/lib/python3.10/site-packages (from tensorflow) (2.13.0)\r\n",
      "Requirement already satisfied: tensorflow-estimator<2.14,>=2.13.0 in /opt/conda/lib/python3.10/site-packages (from tensorflow) (2.13.0)\r\n",
      "Requirement already satisfied: termcolor>=1.1.0 in /opt/conda/lib/python3.10/site-packages (from tensorflow) (2.3.0)\r\n",
      "Requirement already satisfied: typing-extensions<4.6.0,>=3.6.6 in /opt/conda/lib/python3.10/site-packages (from tensorflow) (4.5.0)\r\n",
      "Requirement already satisfied: wrapt>=1.11.0 in /opt/conda/lib/python3.10/site-packages (from tensorflow) (1.15.0)\r\n",
      "Requirement already satisfied: tensorflow-io-gcs-filesystem>=0.23.1 in /opt/conda/lib/python3.10/site-packages (from tensorflow) (0.34.0)\r\n",
      "Requirement already satisfied: wheel<1.0,>=0.23.0 in /opt/conda/lib/python3.10/site-packages (from astunparse>=1.6.0->tensorflow) (0.41.2)\r\n",
      "Requirement already satisfied: google-auth<3,>=1.6.3 in /opt/conda/lib/python3.10/site-packages (from tensorboard<2.14,>=2.13->tensorflow) (2.22.0)\r\n",
      "Requirement already satisfied: google-auth-oauthlib<1.1,>=0.5 in /opt/conda/lib/python3.10/site-packages (from tensorboard<2.14,>=2.13->tensorflow) (1.0.0)\r\n",
      "Requirement already satisfied: markdown>=2.6.8 in /opt/conda/lib/python3.10/site-packages (from tensorboard<2.14,>=2.13->tensorflow) (3.4.4)\r\n",
      "Requirement already satisfied: requests<3,>=2.21.0 in /opt/conda/lib/python3.10/site-packages (from tensorboard<2.14,>=2.13->tensorflow) (2.31.0)\r\n",
      "Requirement already satisfied: tensorboard-data-server<0.8.0,>=0.7.0 in /opt/conda/lib/python3.10/site-packages (from tensorboard<2.14,>=2.13->tensorflow) (0.7.1)\r\n",
      "Requirement already satisfied: werkzeug>=1.0.1 in /opt/conda/lib/python3.10/site-packages (from tensorboard<2.14,>=2.13->tensorflow) (3.0.1)\r\n",
      "Requirement already satisfied: pyparsing!=3.0.5,>=2.0.2 in /opt/conda/lib/python3.10/site-packages (from packaging->tensorflow) (3.0.9)\r\n",
      "Requirement already satisfied: cachetools<6.0,>=2.0.0 in /opt/conda/lib/python3.10/site-packages (from google-auth<3,>=1.6.3->tensorboard<2.14,>=2.13->tensorflow) (4.2.4)\r\n",
      "Requirement already satisfied: pyasn1-modules>=0.2.1 in /opt/conda/lib/python3.10/site-packages (from google-auth<3,>=1.6.3->tensorboard<2.14,>=2.13->tensorflow) (0.2.7)\r\n",
      "Requirement already satisfied: rsa<5,>=3.1.4 in /opt/conda/lib/python3.10/site-packages (from google-auth<3,>=1.6.3->tensorboard<2.14,>=2.13->tensorflow) (4.9)\r\n",
      "Requirement already satisfied: urllib3<2.0 in /opt/conda/lib/python3.10/site-packages (from google-auth<3,>=1.6.3->tensorboard<2.14,>=2.13->tensorflow) (1.26.15)\r\n",
      "Requirement already satisfied: requests-oauthlib>=0.7.0 in /opt/conda/lib/python3.10/site-packages (from google-auth-oauthlib<1.1,>=0.5->tensorboard<2.14,>=2.13->tensorflow) (1.3.1)\r\n",
      "Requirement already satisfied: charset-normalizer<4,>=2 in /opt/conda/lib/python3.10/site-packages (from requests<3,>=2.21.0->tensorboard<2.14,>=2.13->tensorflow) (3.2.0)\r\n",
      "Requirement already satisfied: idna<4,>=2.5 in /opt/conda/lib/python3.10/site-packages (from requests<3,>=2.21.0->tensorboard<2.14,>=2.13->tensorflow) (3.4)\r\n",
      "Requirement already satisfied: certifi>=2017.4.17 in /opt/conda/lib/python3.10/site-packages (from requests<3,>=2.21.0->tensorboard<2.14,>=2.13->tensorflow) (2023.11.17)\r\n",
      "Requirement already satisfied: MarkupSafe>=2.1.1 in /opt/conda/lib/python3.10/site-packages (from werkzeug>=1.0.1->tensorboard<2.14,>=2.13->tensorflow) (2.1.3)\r\n",
      "Requirement already satisfied: pyasn1<0.5.0,>=0.4.6 in /opt/conda/lib/python3.10/site-packages (from pyasn1-modules>=0.2.1->google-auth<3,>=1.6.3->tensorboard<2.14,>=2.13->tensorflow) (0.4.8)\r\n",
      "Requirement already satisfied: oauthlib>=3.0.0 in /opt/conda/lib/python3.10/site-packages (from requests-oauthlib>=0.7.0->google-auth-oauthlib<1.1,>=0.5->tensorboard<2.14,>=2.13->tensorflow) (3.2.2)\r\n"
     ]
    }
   ],
   "source": [
    "!pip install tensorflow"
   ]
  },
  {
   "cell_type": "code",
   "execution_count": 2,
   "id": "ce0c1b33",
   "metadata": {
    "execution": {
     "iopub.execute_input": "2024-01-15T14:40:33.315273Z",
     "iopub.status.busy": "2024-01-15T14:40:33.314406Z",
     "iopub.status.idle": "2024-01-15T14:40:46.483453Z",
     "shell.execute_reply": "2024-01-15T14:40:46.482645Z"
    },
    "papermill": {
     "duration": 13.177742,
     "end_time": "2024-01-15T14:40:46.485841",
     "exception": false,
     "start_time": "2024-01-15T14:40:33.308099",
     "status": "completed"
    },
    "tags": []
   },
   "outputs": [
    {
     "name": "stderr",
     "output_type": "stream",
     "text": [
      "/opt/conda/lib/python3.10/site-packages/scipy/__init__.py:146: UserWarning: A NumPy version >=1.16.5 and <1.23.0 is required for this version of SciPy (detected version 1.24.3\n",
      "  warnings.warn(f\"A NumPy version >={np_minversion} and <{np_maxversion}\"\n"
     ]
    }
   ],
   "source": [
    "import numpy as np\n",
    "from random import randint\n",
    "from sklearn.utils import shuffle\n",
    "from sklearn.preprocessing import MinMaxScaler\n",
    "import tensorflow as tf\n",
    "from tensorflow import keras\n",
    "from tensorflow.keras.models import Sequential\n",
    "from tensorflow.keras.layers import Activation, Dense\n",
    "from tensorflow.keras.optimizers import Adam\n",
    "from tensorflow.keras.metrics import categorical_crossentropy"
   ]
  },
  {
   "cell_type": "markdown",
   "id": "35678b73",
   "metadata": {
    "papermill": {
     "duration": 0.005368,
     "end_time": "2024-01-15T14:40:46.496733",
     "exception": false,
     "start_time": "2024-01-15T14:40:46.491365",
     "status": "completed"
    },
    "tags": []
   },
   "source": [
    "## Genarate a data\n",
    "\n",
    "* An experienmental drug tested on individuals from ages 13 to 100 in a clinical trial.\n",
    "* The trial had 2100 participants. Half were under 65 years old, half were 65 years or older.\n",
    "* Around 95% of patients 65 or older experienced side effects.\n",
    "* Around 95% of patients under 65 experienced no side effects."
   ]
  },
  {
   "cell_type": "code",
   "execution_count": 3,
   "id": "477afd5d",
   "metadata": {
    "execution": {
     "iopub.execute_input": "2024-01-15T14:40:46.508543Z",
     "iopub.status.busy": "2024-01-15T14:40:46.508027Z",
     "iopub.status.idle": "2024-01-15T14:40:46.512389Z",
     "shell.execute_reply": "2024-01-15T14:40:46.511543Z"
    },
    "papermill": {
     "duration": 0.015074,
     "end_time": "2024-01-15T14:40:46.517165",
     "exception": false,
     "start_time": "2024-01-15T14:40:46.502091",
     "status": "completed"
    },
    "tags": []
   },
   "outputs": [],
   "source": [
    "train_labels = []\n",
    "train_samples = []"
   ]
  },
  {
   "cell_type": "code",
   "execution_count": 4,
   "id": "c483f721",
   "metadata": {
    "execution": {
     "iopub.execute_input": "2024-01-15T14:40:46.535835Z",
     "iopub.status.busy": "2024-01-15T14:40:46.535579Z",
     "iopub.status.idle": "2024-01-15T14:40:46.545728Z",
     "shell.execute_reply": "2024-01-15T14:40:46.544944Z"
    },
    "papermill": {
     "duration": 0.018,
     "end_time": "2024-01-15T14:40:46.547594",
     "exception": false,
     "start_time": "2024-01-15T14:40:46.529594",
     "status": "completed"
    },
    "tags": []
   },
   "outputs": [],
   "source": [
    "for i in range(50):\n",
    "    # The ~5% younger individuals who did experience side effects\n",
    "    random_younger = randint(13, 64)\n",
    "    train_samples.append(random_younger)\n",
    "    train_labels.append(1)\n",
    "    \n",
    "    # The ~5% older individuals who did not experience side effects\n",
    "    random_older = randint(65, 100)\n",
    "    train_samples.append(random_older)\n",
    "    train_labels.append(0)\n",
    "\n",
    "for i in range(1000):\n",
    "    # The ~95% younger individuals who did not experience side effects\n",
    "    random_younger = randint(13, 64)\n",
    "    train_samples.append(random_younger)\n",
    "    train_labels.append(0)\n",
    "    \n",
    "    # The ~95% older individuals who did experience side effects\n",
    "    random_older = randint(65, 100)\n",
    "    train_samples.append(random_older)\n",
    "    train_labels.append(1)"
   ]
  },
  {
   "cell_type": "code",
   "execution_count": 5,
   "id": "bb4a2364",
   "metadata": {
    "execution": {
     "iopub.execute_input": "2024-01-15T14:40:46.559431Z",
     "iopub.status.busy": "2024-01-15T14:40:46.558747Z",
     "iopub.status.idle": "2024-01-15T14:40:46.562315Z",
     "shell.execute_reply": "2024-01-15T14:40:46.561514Z"
    },
    "papermill": {
     "duration": 0.011562,
     "end_time": "2024-01-15T14:40:46.564378",
     "exception": false,
     "start_time": "2024-01-15T14:40:46.552816",
     "status": "completed"
    },
    "tags": []
   },
   "outputs": [],
   "source": [
    "# for i in train_samples:\n",
    "#     print(i)"
   ]
  },
  {
   "cell_type": "code",
   "execution_count": 6,
   "id": "5b98b560",
   "metadata": {
    "execution": {
     "iopub.execute_input": "2024-01-15T14:40:46.576058Z",
     "iopub.status.busy": "2024-01-15T14:40:46.575773Z",
     "iopub.status.idle": "2024-01-15T14:40:46.579426Z",
     "shell.execute_reply": "2024-01-15T14:40:46.578575Z"
    },
    "papermill": {
     "duration": 0.01162,
     "end_time": "2024-01-15T14:40:46.581240",
     "exception": false,
     "start_time": "2024-01-15T14:40:46.569620",
     "status": "completed"
    },
    "tags": []
   },
   "outputs": [],
   "source": [
    "# for i in train_labels:\n",
    "#     print(i)"
   ]
  },
  {
   "cell_type": "code",
   "execution_count": 7,
   "id": "9241d002",
   "metadata": {
    "execution": {
     "iopub.execute_input": "2024-01-15T14:40:46.593037Z",
     "iopub.status.busy": "2024-01-15T14:40:46.592421Z",
     "iopub.status.idle": "2024-01-15T14:40:46.599432Z",
     "shell.execute_reply": "2024-01-15T14:40:46.598619Z"
    },
    "papermill": {
     "duration": 0.014822,
     "end_time": "2024-01-15T14:40:46.601305",
     "exception": false,
     "start_time": "2024-01-15T14:40:46.586483",
     "status": "completed"
    },
    "tags": []
   },
   "outputs": [],
   "source": [
    "train_labels = np.array(train_labels)\n",
    "train_samples = np.array(train_samples)\n",
    "train_labels, train_samples = shuffle(train_labels, train_samples)"
   ]
  },
  {
   "cell_type": "code",
   "execution_count": 8,
   "id": "0906d5dd",
   "metadata": {
    "execution": {
     "iopub.execute_input": "2024-01-15T14:40:46.613089Z",
     "iopub.status.busy": "2024-01-15T14:40:46.612802Z",
     "iopub.status.idle": "2024-01-15T14:40:46.617774Z",
     "shell.execute_reply": "2024-01-15T14:40:46.616981Z"
    },
    "papermill": {
     "duration": 0.012999,
     "end_time": "2024-01-15T14:40:46.619578",
     "exception": false,
     "start_time": "2024-01-15T14:40:46.606579",
     "status": "completed"
    },
    "tags": []
   },
   "outputs": [],
   "source": [
    "scaler = MinMaxScaler(feature_range=(0, 1))\n",
    "scaled_train_samples = scaler.fit_transform(train_samples.reshape(-1, 1))"
   ]
  },
  {
   "cell_type": "code",
   "execution_count": 9,
   "id": "b8b9e071",
   "metadata": {
    "execution": {
     "iopub.execute_input": "2024-01-15T14:40:46.631254Z",
     "iopub.status.busy": "2024-01-15T14:40:46.631010Z",
     "iopub.status.idle": "2024-01-15T14:40:46.634497Z",
     "shell.execute_reply": "2024-01-15T14:40:46.633655Z"
    },
    "papermill": {
     "duration": 0.011394,
     "end_time": "2024-01-15T14:40:46.636336",
     "exception": false,
     "start_time": "2024-01-15T14:40:46.624942",
     "status": "completed"
    },
    "tags": []
   },
   "outputs": [],
   "source": [
    "# for i in scaled_train_samples:\n",
    "#     print(i)"
   ]
  },
  {
   "cell_type": "markdown",
   "id": "d2a9ed16",
   "metadata": {
    "papermill": {
     "duration": 0.005182,
     "end_time": "2024-01-15T14:40:46.646862",
     "exception": false,
     "start_time": "2024-01-15T14:40:46.641680",
     "status": "completed"
    },
    "tags": []
   },
   "source": [
    "## Simple tf.keras Sequential Model"
   ]
  },
  {
   "cell_type": "code",
   "execution_count": 10,
   "id": "a3d6c995",
   "metadata": {
    "execution": {
     "iopub.execute_input": "2024-01-15T14:40:46.658467Z",
     "iopub.status.busy": "2024-01-15T14:40:46.658194Z",
     "iopub.status.idle": "2024-01-15T14:40:47.103678Z",
     "shell.execute_reply": "2024-01-15T14:40:47.102754Z"
    },
    "papermill": {
     "duration": 0.454068,
     "end_time": "2024-01-15T14:40:47.106235",
     "exception": false,
     "start_time": "2024-01-15T14:40:46.652167",
     "status": "completed"
    },
    "tags": []
   },
   "outputs": [
    {
     "name": "stdout",
     "output_type": "stream",
     "text": [
      "Num GPUs Available 1\n"
     ]
    }
   ],
   "source": [
    "physical_devices = tf.config.experimental.list_physical_devices('GPU')\n",
    "print(\"Num GPUs Available\", len(physical_devices))\n",
    "tf.config.experimental.set_memory_growth(physical_devices[0], True)"
   ]
  },
  {
   "cell_type": "code",
   "execution_count": 11,
   "id": "efbfbfc0",
   "metadata": {
    "execution": {
     "iopub.execute_input": "2024-01-15T14:40:47.119308Z",
     "iopub.status.busy": "2024-01-15T14:40:47.118657Z",
     "iopub.status.idle": "2024-01-15T14:40:47.408440Z",
     "shell.execute_reply": "2024-01-15T14:40:47.407581Z"
    },
    "papermill": {
     "duration": 0.298729,
     "end_time": "2024-01-15T14:40:47.410837",
     "exception": false,
     "start_time": "2024-01-15T14:40:47.112108",
     "status": "completed"
    },
    "tags": []
   },
   "outputs": [],
   "source": [
    "model = Sequential([\n",
    "    Dense(units=16, input_shape=(1,), activation='relu'),\n",
    "    Dense(units=32, activation='relu'),\n",
    "    Dense(units=2, activation='softmax')\n",
    "])"
   ]
  },
  {
   "cell_type": "code",
   "execution_count": 12,
   "id": "df9217fb",
   "metadata": {
    "execution": {
     "iopub.execute_input": "2024-01-15T14:40:47.424986Z",
     "iopub.status.busy": "2024-01-15T14:40:47.424653Z",
     "iopub.status.idle": "2024-01-15T14:40:47.443295Z",
     "shell.execute_reply": "2024-01-15T14:40:47.442343Z"
    },
    "papermill": {
     "duration": 0.030698,
     "end_time": "2024-01-15T14:40:47.448780",
     "exception": false,
     "start_time": "2024-01-15T14:40:47.418082",
     "status": "completed"
    },
    "tags": []
   },
   "outputs": [
    {
     "name": "stdout",
     "output_type": "stream",
     "text": [
      "Model: \"sequential\"\n",
      "_________________________________________________________________\n",
      " Layer (type)                Output Shape              Param #   \n",
      "=================================================================\n",
      " dense (Dense)               (None, 16)                32        \n",
      "                                                                 \n",
      " dense_1 (Dense)             (None, 32)                544       \n",
      "                                                                 \n",
      " dense_2 (Dense)             (None, 2)                 66        \n",
      "                                                                 \n",
      "=================================================================\n",
      "Total params: 642 (2.51 KB)\n",
      "Trainable params: 642 (2.51 KB)\n",
      "Non-trainable params: 0 (0.00 Byte)\n",
      "_________________________________________________________________\n"
     ]
    }
   ],
   "source": [
    "model.summary()"
   ]
  },
  {
   "cell_type": "code",
   "execution_count": 13,
   "id": "8a5426f7",
   "metadata": {
    "execution": {
     "iopub.execute_input": "2024-01-15T14:40:47.463860Z",
     "iopub.status.busy": "2024-01-15T14:40:47.463272Z",
     "iopub.status.idle": "2024-01-15T14:40:47.478242Z",
     "shell.execute_reply": "2024-01-15T14:40:47.477509Z"
    },
    "papermill": {
     "duration": 0.024471,
     "end_time": "2024-01-15T14:40:47.480137",
     "exception": false,
     "start_time": "2024-01-15T14:40:47.455666",
     "status": "completed"
    },
    "tags": []
   },
   "outputs": [],
   "source": [
    "model.compile(optimizer=Adam(learning_rate=0.0001), loss='sparse_categorical_crossentropy', metrics=['accuracy'])"
   ]
  },
  {
   "cell_type": "code",
   "execution_count": 14,
   "id": "094a18d6",
   "metadata": {
    "execution": {
     "iopub.execute_input": "2024-01-15T14:40:47.495168Z",
     "iopub.status.busy": "2024-01-15T14:40:47.494901Z",
     "iopub.status.idle": "2024-01-15T14:41:02.809887Z",
     "shell.execute_reply": "2024-01-15T14:41:02.808972Z"
    },
    "papermill": {
     "duration": 15.324896,
     "end_time": "2024-01-15T14:41:02.812019",
     "exception": false,
     "start_time": "2024-01-15T14:40:47.487123",
     "status": "completed"
    },
    "tags": []
   },
   "outputs": [
    {
     "name": "stdout",
     "output_type": "stream",
     "text": [
      "Epoch 1/30\n",
      "189/189 - 3s - loss: 0.6891 - accuracy: 0.6201 - val_loss: 0.6681 - val_accuracy: 0.7238 - 3s/epoch - 15ms/step\n",
      "Epoch 2/30\n",
      "189/189 - 0s - loss: 0.6499 - accuracy: 0.7365 - val_loss: 0.6246 - val_accuracy: 0.7762 - 435ms/epoch - 2ms/step\n",
      "Epoch 3/30\n",
      "189/189 - 0s - loss: 0.6078 - accuracy: 0.7942 - val_loss: 0.5866 - val_accuracy: 0.8190 - 424ms/epoch - 2ms/step\n",
      "Epoch 4/30\n",
      "189/189 - 0s - loss: 0.5737 - accuracy: 0.8090 - val_loss: 0.5527 - val_accuracy: 0.8381 - 421ms/epoch - 2ms/step\n",
      "Epoch 5/30\n",
      "189/189 - 0s - loss: 0.5406 - accuracy: 0.8386 - val_loss: 0.5192 - val_accuracy: 0.8381 - 418ms/epoch - 2ms/step\n",
      "Epoch 6/30\n",
      "189/189 - 0s - loss: 0.5089 - accuracy: 0.8434 - val_loss: 0.4871 - val_accuracy: 0.8619 - 417ms/epoch - 2ms/step\n",
      "Epoch 7/30\n",
      "189/189 - 0s - loss: 0.4787 - accuracy: 0.8582 - val_loss: 0.4570 - val_accuracy: 0.8619 - 410ms/epoch - 2ms/step\n",
      "Epoch 8/30\n",
      "189/189 - 0s - loss: 0.4506 - accuracy: 0.8646 - val_loss: 0.4285 - val_accuracy: 0.8667 - 408ms/epoch - 2ms/step\n",
      "Epoch 9/30\n",
      "189/189 - 0s - loss: 0.4252 - accuracy: 0.8735 - val_loss: 0.4031 - val_accuracy: 0.8810 - 422ms/epoch - 2ms/step\n",
      "Epoch 10/30\n",
      "189/189 - 0s - loss: 0.4022 - accuracy: 0.8762 - val_loss: 0.3801 - val_accuracy: 0.8905 - 441ms/epoch - 2ms/step\n",
      "Epoch 11/30\n",
      "189/189 - 0s - loss: 0.3821 - accuracy: 0.8862 - val_loss: 0.3597 - val_accuracy: 0.9000 - 424ms/epoch - 2ms/step\n",
      "Epoch 12/30\n",
      "189/189 - 0s - loss: 0.3645 - accuracy: 0.8952 - val_loss: 0.3418 - val_accuracy: 0.9000 - 416ms/epoch - 2ms/step\n",
      "Epoch 13/30\n",
      "189/189 - 0s - loss: 0.3493 - accuracy: 0.8974 - val_loss: 0.3261 - val_accuracy: 0.9143 - 416ms/epoch - 2ms/step\n",
      "Epoch 14/30\n",
      "189/189 - 1s - loss: 0.3365 - accuracy: 0.9000 - val_loss: 0.3127 - val_accuracy: 0.9238 - 508ms/epoch - 3ms/step\n",
      "Epoch 15/30\n",
      "189/189 - 0s - loss: 0.3256 - accuracy: 0.9143 - val_loss: 0.3016 - val_accuracy: 0.9143 - 470ms/epoch - 2ms/step\n",
      "Epoch 16/30\n",
      "189/189 - 0s - loss: 0.3168 - accuracy: 0.9090 - val_loss: 0.2913 - val_accuracy: 0.9238 - 441ms/epoch - 2ms/step\n",
      "Epoch 17/30\n",
      "189/189 - 0s - loss: 0.3091 - accuracy: 0.9111 - val_loss: 0.2830 - val_accuracy: 0.9238 - 420ms/epoch - 2ms/step\n",
      "Epoch 18/30\n",
      "189/189 - 0s - loss: 0.3025 - accuracy: 0.9175 - val_loss: 0.2757 - val_accuracy: 0.9429 - 426ms/epoch - 2ms/step\n",
      "Epoch 19/30\n",
      "189/189 - 0s - loss: 0.2972 - accuracy: 0.9190 - val_loss: 0.2693 - val_accuracy: 0.9429 - 422ms/epoch - 2ms/step\n",
      "Epoch 20/30\n",
      "189/189 - 0s - loss: 0.2926 - accuracy: 0.9212 - val_loss: 0.2640 - val_accuracy: 0.9429 - 415ms/epoch - 2ms/step\n",
      "Epoch 21/30\n",
      "189/189 - 0s - loss: 0.2885 - accuracy: 0.9222 - val_loss: 0.2594 - val_accuracy: 0.9524 - 414ms/epoch - 2ms/step\n",
      "Epoch 22/30\n",
      "189/189 - 0s - loss: 0.2853 - accuracy: 0.9265 - val_loss: 0.2552 - val_accuracy: 0.9524 - 415ms/epoch - 2ms/step\n",
      "Epoch 23/30\n",
      "189/189 - 0s - loss: 0.2825 - accuracy: 0.9243 - val_loss: 0.2517 - val_accuracy: 0.9429 - 418ms/epoch - 2ms/step\n",
      "Epoch 24/30\n",
      "189/189 - 0s - loss: 0.2796 - accuracy: 0.9270 - val_loss: 0.2486 - val_accuracy: 0.9429 - 417ms/epoch - 2ms/step\n",
      "Epoch 25/30\n",
      "189/189 - 0s - loss: 0.2774 - accuracy: 0.9259 - val_loss: 0.2456 - val_accuracy: 0.9524 - 424ms/epoch - 2ms/step\n",
      "Epoch 26/30\n",
      "189/189 - 0s - loss: 0.2753 - accuracy: 0.9265 - val_loss: 0.2430 - val_accuracy: 0.9524 - 416ms/epoch - 2ms/step\n",
      "Epoch 27/30\n",
      "189/189 - 0s - loss: 0.2736 - accuracy: 0.9270 - val_loss: 0.2407 - val_accuracy: 0.9524 - 431ms/epoch - 2ms/step\n",
      "Epoch 28/30\n",
      "189/189 - 0s - loss: 0.2721 - accuracy: 0.9291 - val_loss: 0.2386 - val_accuracy: 0.9524 - 414ms/epoch - 2ms/step\n",
      "Epoch 29/30\n",
      "189/189 - 0s - loss: 0.2704 - accuracy: 0.9286 - val_loss: 0.2366 - val_accuracy: 0.9524 - 414ms/epoch - 2ms/step\n",
      "Epoch 30/30\n",
      "189/189 - 0s - loss: 0.2690 - accuracy: 0.9286 - val_loss: 0.2350 - val_accuracy: 0.9524 - 421ms/epoch - 2ms/step\n"
     ]
    },
    {
     "data": {
      "text/plain": [
       "<keras.src.callbacks.History at 0x7c52bccf8c70>"
      ]
     },
     "execution_count": 14,
     "metadata": {},
     "output_type": "execute_result"
    }
   ],
   "source": [
    "model.fit(x=scaled_train_samples, y=train_labels, validation_split=0.1, batch_size=10, epochs=30, shuffle=True, verbose=2)"
   ]
  },
  {
   "cell_type": "code",
   "execution_count": null,
   "id": "e73bbf6d",
   "metadata": {
    "papermill": {
     "duration": 0.011307,
     "end_time": "2024-01-15T14:41:02.835089",
     "exception": false,
     "start_time": "2024-01-15T14:41:02.823782",
     "status": "completed"
    },
    "tags": []
   },
   "outputs": [],
   "source": []
  }
 ],
 "metadata": {
  "kaggle": {
   "accelerator": "gpu",
   "dataSources": [],
   "dockerImageVersionId": 30636,
   "isGpuEnabled": true,
   "isInternetEnabled": true,
   "language": "python",
   "sourceType": "notebook"
  },
  "kernelspec": {
   "display_name": "Python 3",
   "language": "python",
   "name": "python3"
  },
  "language_info": {
   "codemirror_mode": {
    "name": "ipython",
    "version": 3
   },
   "file_extension": ".py",
   "mimetype": "text/x-python",
   "name": "python",
   "nbconvert_exporter": "python",
   "pygments_lexer": "ipython3",
   "version": "3.10.12"
  },
  "papermill": {
   "default_parameters": {},
   "duration": 48.595298,
   "end_time": "2024-01-15T14:41:05.582974",
   "environment_variables": {},
   "exception": null,
   "input_path": "__notebook__.ipynb",
   "output_path": "__notebook__.ipynb",
   "parameters": {},
   "start_time": "2024-01-15T14:40:16.987676",
   "version": "2.4.0"
  }
 },
 "nbformat": 4,
 "nbformat_minor": 5
}
