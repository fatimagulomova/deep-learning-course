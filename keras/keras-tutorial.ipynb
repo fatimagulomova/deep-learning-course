{
 "cells": [
  {
   "cell_type": "markdown",
   "id": "eada16d9",
   "metadata": {
    "papermill": {
     "duration": 0.008365,
     "end_time": "2024-01-18T16:17:55.390379",
     "exception": false,
     "start_time": "2024-01-18T16:17:55.382014",
     "status": "completed"
    },
    "tags": []
   },
   "source": [
    "# Simple tf.keras Sequential Model"
   ]
  },
  {
   "cell_type": "markdown",
   "id": "72de64e9",
   "metadata": {
    "papermill": {
     "duration": 0.007471,
     "end_time": "2024-01-18T16:17:55.405795",
     "exception": false,
     "start_time": "2024-01-18T16:17:55.398324",
     "status": "completed"
    },
    "tags": []
   },
   "source": [
    "## Notebook Imports"
   ]
  },
  {
   "cell_type": "code",
   "execution_count": 1,
   "id": "843c038a",
   "metadata": {
    "_cell_guid": "b1076dfc-b9ad-4769-8c92-a6c4dae69d19",
    "_uuid": "8f2839f25d086af736a60e9eeb907d3b93b6e0e5",
    "collapsed": true,
    "execution": {
     "iopub.execute_input": "2024-01-18T16:17:55.423534Z",
     "iopub.status.busy": "2024-01-18T16:17:55.422750Z",
     "iopub.status.idle": "2024-01-18T16:18:09.090395Z",
     "shell.execute_reply": "2024-01-18T16:18:09.089276Z"
    },
    "jupyter": {
     "outputs_hidden": true
    },
    "papermill": {
     "duration": 13.679565,
     "end_time": "2024-01-18T16:18:09.092960",
     "exception": false,
     "start_time": "2024-01-18T16:17:55.413395",
     "status": "completed"
    },
    "tags": []
   },
   "outputs": [
    {
     "name": "stdout",
     "output_type": "stream",
     "text": [
      "Requirement already satisfied: tensorflow in /opt/conda/lib/python3.10/site-packages (2.13.0)\r\n",
      "Requirement already satisfied: absl-py>=1.0.0 in /opt/conda/lib/python3.10/site-packages (from tensorflow) (1.4.0)\r\n",
      "Requirement already satisfied: astunparse>=1.6.0 in /opt/conda/lib/python3.10/site-packages (from tensorflow) (1.6.3)\r\n",
      "Requirement already satisfied: flatbuffers>=23.1.21 in /opt/conda/lib/python3.10/site-packages (from tensorflow) (23.5.26)\r\n",
      "Requirement already satisfied: gast<=0.4.0,>=0.2.1 in /opt/conda/lib/python3.10/site-packages (from tensorflow) (0.4.0)\r\n",
      "Requirement already satisfied: google-pasta>=0.1.1 in /opt/conda/lib/python3.10/site-packages (from tensorflow) (0.2.0)\r\n",
      "Requirement already satisfied: grpcio<2.0,>=1.24.3 in /opt/conda/lib/python3.10/site-packages (from tensorflow) (1.51.1)\r\n",
      "Requirement already satisfied: h5py>=2.9.0 in /opt/conda/lib/python3.10/site-packages (from tensorflow) (3.9.0)\r\n",
      "Requirement already satisfied: keras<2.14,>=2.13.1 in /opt/conda/lib/python3.10/site-packages (from tensorflow) (2.13.1)\r\n",
      "Requirement already satisfied: libclang>=13.0.0 in /opt/conda/lib/python3.10/site-packages (from tensorflow) (16.0.6)\r\n",
      "Requirement already satisfied: numpy<=1.24.3,>=1.22 in /opt/conda/lib/python3.10/site-packages (from tensorflow) (1.24.3)\r\n",
      "Requirement already satisfied: opt-einsum>=2.3.2 in /opt/conda/lib/python3.10/site-packages (from tensorflow) (3.3.0)\r\n",
      "Requirement already satisfied: packaging in /opt/conda/lib/python3.10/site-packages (from tensorflow) (21.3)\r\n",
      "Requirement already satisfied: protobuf!=4.21.0,!=4.21.1,!=4.21.2,!=4.21.3,!=4.21.4,!=4.21.5,<5.0.0dev,>=3.20.3 in /opt/conda/lib/python3.10/site-packages (from tensorflow) (3.20.3)\r\n",
      "Requirement already satisfied: setuptools in /opt/conda/lib/python3.10/site-packages (from tensorflow) (68.1.2)\r\n",
      "Requirement already satisfied: six>=1.12.0 in /opt/conda/lib/python3.10/site-packages (from tensorflow) (1.16.0)\r\n",
      "Requirement already satisfied: tensorboard<2.14,>=2.13 in /opt/conda/lib/python3.10/site-packages (from tensorflow) (2.13.0)\r\n",
      "Requirement already satisfied: tensorflow-estimator<2.14,>=2.13.0 in /opt/conda/lib/python3.10/site-packages (from tensorflow) (2.13.0)\r\n",
      "Requirement already satisfied: termcolor>=1.1.0 in /opt/conda/lib/python3.10/site-packages (from tensorflow) (2.3.0)\r\n",
      "Requirement already satisfied: typing-extensions<4.6.0,>=3.6.6 in /opt/conda/lib/python3.10/site-packages (from tensorflow) (4.5.0)\r\n",
      "Requirement already satisfied: wrapt>=1.11.0 in /opt/conda/lib/python3.10/site-packages (from tensorflow) (1.15.0)\r\n",
      "Requirement already satisfied: tensorflow-io-gcs-filesystem>=0.23.1 in /opt/conda/lib/python3.10/site-packages (from tensorflow) (0.34.0)\r\n",
      "Requirement already satisfied: wheel<1.0,>=0.23.0 in /opt/conda/lib/python3.10/site-packages (from astunparse>=1.6.0->tensorflow) (0.41.2)\r\n",
      "Requirement already satisfied: google-auth<3,>=1.6.3 in /opt/conda/lib/python3.10/site-packages (from tensorboard<2.14,>=2.13->tensorflow) (2.22.0)\r\n",
      "Requirement already satisfied: google-auth-oauthlib<1.1,>=0.5 in /opt/conda/lib/python3.10/site-packages (from tensorboard<2.14,>=2.13->tensorflow) (1.0.0)\r\n",
      "Requirement already satisfied: markdown>=2.6.8 in /opt/conda/lib/python3.10/site-packages (from tensorboard<2.14,>=2.13->tensorflow) (3.4.4)\r\n",
      "Requirement already satisfied: requests<3,>=2.21.0 in /opt/conda/lib/python3.10/site-packages (from tensorboard<2.14,>=2.13->tensorflow) (2.31.0)\r\n",
      "Requirement already satisfied: tensorboard-data-server<0.8.0,>=0.7.0 in /opt/conda/lib/python3.10/site-packages (from tensorboard<2.14,>=2.13->tensorflow) (0.7.1)\r\n",
      "Requirement already satisfied: werkzeug>=1.0.1 in /opt/conda/lib/python3.10/site-packages (from tensorboard<2.14,>=2.13->tensorflow) (3.0.1)\r\n",
      "Requirement already satisfied: pyparsing!=3.0.5,>=2.0.2 in /opt/conda/lib/python3.10/site-packages (from packaging->tensorflow) (3.0.9)\r\n",
      "Requirement already satisfied: cachetools<6.0,>=2.0.0 in /opt/conda/lib/python3.10/site-packages (from google-auth<3,>=1.6.3->tensorboard<2.14,>=2.13->tensorflow) (4.2.4)\r\n",
      "Requirement already satisfied: pyasn1-modules>=0.2.1 in /opt/conda/lib/python3.10/site-packages (from google-auth<3,>=1.6.3->tensorboard<2.14,>=2.13->tensorflow) (0.2.7)\r\n",
      "Requirement already satisfied: rsa<5,>=3.1.4 in /opt/conda/lib/python3.10/site-packages (from google-auth<3,>=1.6.3->tensorboard<2.14,>=2.13->tensorflow) (4.9)\r\n",
      "Requirement already satisfied: urllib3<2.0 in /opt/conda/lib/python3.10/site-packages (from google-auth<3,>=1.6.3->tensorboard<2.14,>=2.13->tensorflow) (1.26.15)\r\n",
      "Requirement already satisfied: requests-oauthlib>=0.7.0 in /opt/conda/lib/python3.10/site-packages (from google-auth-oauthlib<1.1,>=0.5->tensorboard<2.14,>=2.13->tensorflow) (1.3.1)\r\n",
      "Requirement already satisfied: charset-normalizer<4,>=2 in /opt/conda/lib/python3.10/site-packages (from requests<3,>=2.21.0->tensorboard<2.14,>=2.13->tensorflow) (3.2.0)\r\n",
      "Requirement already satisfied: idna<4,>=2.5 in /opt/conda/lib/python3.10/site-packages (from requests<3,>=2.21.0->tensorboard<2.14,>=2.13->tensorflow) (3.4)\r\n",
      "Requirement already satisfied: certifi>=2017.4.17 in /opt/conda/lib/python3.10/site-packages (from requests<3,>=2.21.0->tensorboard<2.14,>=2.13->tensorflow) (2023.11.17)\r\n",
      "Requirement already satisfied: MarkupSafe>=2.1.1 in /opt/conda/lib/python3.10/site-packages (from werkzeug>=1.0.1->tensorboard<2.14,>=2.13->tensorflow) (2.1.3)\r\n",
      "Requirement already satisfied: pyasn1<0.5.0,>=0.4.6 in /opt/conda/lib/python3.10/site-packages (from pyasn1-modules>=0.2.1->google-auth<3,>=1.6.3->tensorboard<2.14,>=2.13->tensorflow) (0.4.8)\r\n",
      "Requirement already satisfied: oauthlib>=3.0.0 in /opt/conda/lib/python3.10/site-packages (from requests-oauthlib>=0.7.0->google-auth-oauthlib<1.1,>=0.5->tensorboard<2.14,>=2.13->tensorflow) (3.2.2)\r\n"
     ]
    }
   ],
   "source": [
    "!pip install tensorflow"
   ]
  },
  {
   "cell_type": "code",
   "execution_count": 2,
   "id": "92c46897",
   "metadata": {
    "execution": {
     "iopub.execute_input": "2024-01-18T16:18:09.112345Z",
     "iopub.status.busy": "2024-01-18T16:18:09.111401Z",
     "iopub.status.idle": "2024-01-18T16:18:22.099921Z",
     "shell.execute_reply": "2024-01-18T16:18:22.098896Z"
    },
    "papermill": {
     "duration": 13.000821,
     "end_time": "2024-01-18T16:18:22.102482",
     "exception": false,
     "start_time": "2024-01-18T16:18:09.101661",
     "status": "completed"
    },
    "tags": []
   },
   "outputs": [
    {
     "name": "stderr",
     "output_type": "stream",
     "text": [
      "/opt/conda/lib/python3.10/site-packages/scipy/__init__.py:146: UserWarning: A NumPy version >=1.16.5 and <1.23.0 is required for this version of SciPy (detected version 1.24.3\n",
      "  warnings.warn(f\"A NumPy version >={np_minversion} and <{np_maxversion}\"\n"
     ]
    }
   ],
   "source": [
    "import numpy as np\n",
    "import itertools\n",
    "import tensorflow as tf\n",
    "import matplotlib.pyplot as plt\n",
    "\n",
    "from random import randint\n",
    "from sklearn.utils import shuffle\n",
    "from sklearn.preprocessing import MinMaxScaler\n",
    "from sklearn.metrics import confusion_matrix, ConfusionMatrixDisplay\n",
    "\n",
    "from tensorflow import keras\n",
    "from tensorflow.keras.models import Sequential\n",
    "from tensorflow.keras.layers import Activation, Dense\n",
    "from tensorflow.keras.optimizers import Adam\n",
    "from tensorflow.keras.metrics import categorical_crossentropy\n",
    "\n",
    "%matplotlib inline"
   ]
  },
  {
   "cell_type": "markdown",
   "id": "4a66ecea",
   "metadata": {
    "papermill": {
     "duration": 0.007996,
     "end_time": "2024-01-18T16:18:22.119313",
     "exception": false,
     "start_time": "2024-01-18T16:18:22.111317",
     "status": "completed"
    },
    "tags": []
   },
   "source": [
    "## Genarate a data\n",
    "\n",
    "* An experienmental drug tested on individuals from ages 13 to 100 in a clinical trial.\n",
    "* The trial had 2100 participants. Half were under 65 years old, half were 65 years or older.\n",
    "* Around 95% of patients 65 or older experienced side effects.\n",
    "* Around 95% of patients under 65 experienced no side effects."
   ]
  },
  {
   "cell_type": "code",
   "execution_count": 3,
   "id": "fc479611",
   "metadata": {
    "execution": {
     "iopub.execute_input": "2024-01-18T16:18:22.137593Z",
     "iopub.status.busy": "2024-01-18T16:18:22.136979Z",
     "iopub.status.idle": "2024-01-18T16:18:22.141647Z",
     "shell.execute_reply": "2024-01-18T16:18:22.140775Z"
    },
    "papermill": {
     "duration": 0.0164,
     "end_time": "2024-01-18T16:18:22.143775",
     "exception": false,
     "start_time": "2024-01-18T16:18:22.127375",
     "status": "completed"
    },
    "tags": []
   },
   "outputs": [],
   "source": [
    "train_labels = []\n",
    "train_samples = []\n",
    "\n",
    "test_labels = []\n",
    "test_samples = []"
   ]
  },
  {
   "cell_type": "code",
   "execution_count": 4,
   "id": "52e49632",
   "metadata": {
    "execution": {
     "iopub.execute_input": "2024-01-18T16:18:22.161788Z",
     "iopub.status.busy": "2024-01-18T16:18:22.161433Z",
     "iopub.status.idle": "2024-01-18T16:18:22.171849Z",
     "shell.execute_reply": "2024-01-18T16:18:22.171093Z"
    },
    "papermill": {
     "duration": 0.021552,
     "end_time": "2024-01-18T16:18:22.173814",
     "exception": false,
     "start_time": "2024-01-18T16:18:22.152262",
     "status": "completed"
    },
    "tags": []
   },
   "outputs": [],
   "source": [
    "for i in range(50):\n",
    "    # The ~5% younger individuals who did experience side effects\n",
    "    random_younger = randint(13, 64)\n",
    "    train_samples.append(random_younger)\n",
    "    train_labels.append(1)\n",
    "    \n",
    "    # The ~5% older individuals who did not experience side effects\n",
    "    random_older = randint(65, 100)\n",
    "    train_samples.append(random_older)\n",
    "    train_labels.append(0)\n",
    "\n",
    "for i in range(1000):\n",
    "    # The ~95% younger individuals who did not experience side effects\n",
    "    random_younger = randint(13, 64)\n",
    "    train_samples.append(random_younger)\n",
    "    train_labels.append(0)\n",
    "    \n",
    "    # The ~95% older individuals who did experience side effects\n",
    "    random_older = randint(65, 100)\n",
    "    train_samples.append(random_older)\n",
    "    train_labels.append(1)"
   ]
  },
  {
   "cell_type": "code",
   "execution_count": 5,
   "id": "d6e2fa49",
   "metadata": {
    "execution": {
     "iopub.execute_input": "2024-01-18T16:18:22.192299Z",
     "iopub.status.busy": "2024-01-18T16:18:22.191961Z",
     "iopub.status.idle": "2024-01-18T16:18:22.199577Z",
     "shell.execute_reply": "2024-01-18T16:18:22.198709Z"
    },
    "papermill": {
     "duration": 0.018673,
     "end_time": "2024-01-18T16:18:22.201437",
     "exception": false,
     "start_time": "2024-01-18T16:18:22.182764",
     "status": "completed"
    },
    "tags": []
   },
   "outputs": [],
   "source": [
    "for i in range(10):\n",
    "    # The ~5% younger individuals who did experience side effects\n",
    "    random_younger = randint(13, 64)\n",
    "    test_samples.append(random_younger)\n",
    "    test_labels.append(1)\n",
    "    \n",
    "    # The ~5% older individuals who did not experience side effects\n",
    "    random_older = randint(65, 100)\n",
    "    test_samples.append(random_older)\n",
    "    test_labels.append(0)\n",
    "\n",
    "for i in range(200):\n",
    "    # The ~95% younger individuals who did not experience side effects\n",
    "    random_younger = randint(13, 64)\n",
    "    test_samples.append(random_younger)\n",
    "    test_labels.append(0)\n",
    "    \n",
    "    # The ~95% older individuals who did experience side effects\n",
    "    random_older = randint(65, 100)\n",
    "    test_samples.append(random_older)\n",
    "    test_labels.append(1)"
   ]
  },
  {
   "cell_type": "code",
   "execution_count": 6,
   "id": "16cbdc49",
   "metadata": {
    "execution": {
     "iopub.execute_input": "2024-01-18T16:18:22.219065Z",
     "iopub.status.busy": "2024-01-18T16:18:22.218714Z",
     "iopub.status.idle": "2024-01-18T16:18:22.222656Z",
     "shell.execute_reply": "2024-01-18T16:18:22.221632Z"
    },
    "papermill": {
     "duration": 0.015054,
     "end_time": "2024-01-18T16:18:22.224722",
     "exception": false,
     "start_time": "2024-01-18T16:18:22.209668",
     "status": "completed"
    },
    "tags": []
   },
   "outputs": [],
   "source": [
    "# for i in train_samples:\n",
    "#     print(i)"
   ]
  },
  {
   "cell_type": "code",
   "execution_count": 7,
   "id": "6df956d7",
   "metadata": {
    "execution": {
     "iopub.execute_input": "2024-01-18T16:18:22.242561Z",
     "iopub.status.busy": "2024-01-18T16:18:22.242183Z",
     "iopub.status.idle": "2024-01-18T16:18:22.246419Z",
     "shell.execute_reply": "2024-01-18T16:18:22.245440Z"
    },
    "papermill": {
     "duration": 0.015774,
     "end_time": "2024-01-18T16:18:22.248605",
     "exception": false,
     "start_time": "2024-01-18T16:18:22.232831",
     "status": "completed"
    },
    "tags": []
   },
   "outputs": [],
   "source": [
    "# for i in train_labels:\n",
    "#     print(i)"
   ]
  },
  {
   "cell_type": "code",
   "execution_count": 8,
   "id": "0e644ad2",
   "metadata": {
    "execution": {
     "iopub.execute_input": "2024-01-18T16:18:22.269116Z",
     "iopub.status.busy": "2024-01-18T16:18:22.268428Z",
     "iopub.status.idle": "2024-01-18T16:18:22.275774Z",
     "shell.execute_reply": "2024-01-18T16:18:22.274948Z"
    },
    "papermill": {
     "duration": 0.0199,
     "end_time": "2024-01-18T16:18:22.277960",
     "exception": false,
     "start_time": "2024-01-18T16:18:22.258060",
     "status": "completed"
    },
    "tags": []
   },
   "outputs": [],
   "source": [
    "train_labels = np.array(train_labels)\n",
    "train_samples = np.array(train_samples)\n",
    "train_labels, train_samples = shuffle(train_labels, train_samples)"
   ]
  },
  {
   "cell_type": "code",
   "execution_count": 9,
   "id": "1b475005",
   "metadata": {
    "execution": {
     "iopub.execute_input": "2024-01-18T16:18:22.295869Z",
     "iopub.status.busy": "2024-01-18T16:18:22.295502Z",
     "iopub.status.idle": "2024-01-18T16:18:22.300742Z",
     "shell.execute_reply": "2024-01-18T16:18:22.300004Z"
    },
    "papermill": {
     "duration": 0.016449,
     "end_time": "2024-01-18T16:18:22.302686",
     "exception": false,
     "start_time": "2024-01-18T16:18:22.286237",
     "status": "completed"
    },
    "tags": []
   },
   "outputs": [],
   "source": [
    "test_labels = np.array(test_labels)\n",
    "test_samples = np.array(test_samples)\n",
    "test_labels, test_samples = shuffle(test_labels, test_samples)"
   ]
  },
  {
   "cell_type": "code",
   "execution_count": 10,
   "id": "e1290721",
   "metadata": {
    "execution": {
     "iopub.execute_input": "2024-01-18T16:18:22.320793Z",
     "iopub.status.busy": "2024-01-18T16:18:22.319944Z",
     "iopub.status.idle": "2024-01-18T16:18:22.326645Z",
     "shell.execute_reply": "2024-01-18T16:18:22.325787Z"
    },
    "papermill": {
     "duration": 0.017653,
     "end_time": "2024-01-18T16:18:22.328591",
     "exception": false,
     "start_time": "2024-01-18T16:18:22.310938",
     "status": "completed"
    },
    "tags": []
   },
   "outputs": [],
   "source": [
    "scaler = MinMaxScaler(feature_range=(0, 1))\n",
    "scaled_train_samples = scaler.fit_transform(train_samples.reshape(-1, 1))\n",
    "scaled_test_samples = scaler.fit_transform(test_samples.reshape(-1, 1))"
   ]
  },
  {
   "cell_type": "code",
   "execution_count": 11,
   "id": "eb3e6ce9",
   "metadata": {
    "execution": {
     "iopub.execute_input": "2024-01-18T16:18:22.346218Z",
     "iopub.status.busy": "2024-01-18T16:18:22.345590Z",
     "iopub.status.idle": "2024-01-18T16:18:22.349529Z",
     "shell.execute_reply": "2024-01-18T16:18:22.348671Z"
    },
    "papermill": {
     "duration": 0.014752,
     "end_time": "2024-01-18T16:18:22.351426",
     "exception": false,
     "start_time": "2024-01-18T16:18:22.336674",
     "status": "completed"
    },
    "tags": []
   },
   "outputs": [],
   "source": [
    "# for i in scaled_train_samples:\n",
    "#     print(i)"
   ]
  },
  {
   "cell_type": "markdown",
   "id": "8f81f0dc",
   "metadata": {
    "papermill": {
     "duration": 0.007697,
     "end_time": "2024-01-18T16:18:22.367266",
     "exception": false,
     "start_time": "2024-01-18T16:18:22.359569",
     "status": "completed"
    },
    "tags": []
   },
   "source": [
    "## Simple tf.keras Sequential Model"
   ]
  },
  {
   "cell_type": "code",
   "execution_count": 12,
   "id": "f1bd735b",
   "metadata": {
    "execution": {
     "iopub.execute_input": "2024-01-18T16:18:22.385075Z",
     "iopub.status.busy": "2024-01-18T16:18:22.384443Z",
     "iopub.status.idle": "2024-01-18T16:18:22.751502Z",
     "shell.execute_reply": "2024-01-18T16:18:22.750551Z"
    },
    "papermill": {
     "duration": 0.379016,
     "end_time": "2024-01-18T16:18:22.754327",
     "exception": false,
     "start_time": "2024-01-18T16:18:22.375311",
     "status": "completed"
    },
    "tags": []
   },
   "outputs": [
    {
     "name": "stdout",
     "output_type": "stream",
     "text": [
      "Num GPUs Available 1\n"
     ]
    }
   ],
   "source": [
    "physical_devices = tf.config.experimental.list_physical_devices('GPU')\n",
    "print(\"Num GPUs Available\", len(physical_devices))\n",
    "tf.config.experimental.set_memory_growth(physical_devices[0], True)"
   ]
  },
  {
   "cell_type": "code",
   "execution_count": 13,
   "id": "53a6e378",
   "metadata": {
    "execution": {
     "iopub.execute_input": "2024-01-18T16:18:22.772578Z",
     "iopub.status.busy": "2024-01-18T16:18:22.772224Z",
     "iopub.status.idle": "2024-01-18T16:18:23.049363Z",
     "shell.execute_reply": "2024-01-18T16:18:23.048326Z"
    },
    "papermill": {
     "duration": 0.289374,
     "end_time": "2024-01-18T16:18:23.052205",
     "exception": false,
     "start_time": "2024-01-18T16:18:22.762831",
     "status": "completed"
    },
    "tags": []
   },
   "outputs": [],
   "source": [
    "model = Sequential([\n",
    "    Dense(units=16, input_shape=(1,), activation='relu'),\n",
    "    Dense(units=32, activation='relu'),\n",
    "    Dense(units=2, activation='softmax')\n",
    "])"
   ]
  },
  {
   "cell_type": "code",
   "execution_count": 14,
   "id": "548b7fc8",
   "metadata": {
    "execution": {
     "iopub.execute_input": "2024-01-18T16:18:23.070176Z",
     "iopub.status.busy": "2024-01-18T16:18:23.069817Z",
     "iopub.status.idle": "2024-01-18T16:18:23.089463Z",
     "shell.execute_reply": "2024-01-18T16:18:23.088460Z"
    },
    "papermill": {
     "duration": 0.034003,
     "end_time": "2024-01-18T16:18:23.094433",
     "exception": false,
     "start_time": "2024-01-18T16:18:23.060430",
     "status": "completed"
    },
    "tags": []
   },
   "outputs": [
    {
     "name": "stdout",
     "output_type": "stream",
     "text": [
      "Model: \"sequential\"\n",
      "_________________________________________________________________\n",
      " Layer (type)                Output Shape              Param #   \n",
      "=================================================================\n",
      " dense (Dense)               (None, 16)                32        \n",
      "                                                                 \n",
      " dense_1 (Dense)             (None, 32)                544       \n",
      "                                                                 \n",
      " dense_2 (Dense)             (None, 2)                 66        \n",
      "                                                                 \n",
      "=================================================================\n",
      "Total params: 642 (2.51 KB)\n",
      "Trainable params: 642 (2.51 KB)\n",
      "Non-trainable params: 0 (0.00 Byte)\n",
      "_________________________________________________________________\n"
     ]
    }
   ],
   "source": [
    "model.summary()"
   ]
  },
  {
   "cell_type": "code",
   "execution_count": 15,
   "id": "eac26818",
   "metadata": {
    "execution": {
     "iopub.execute_input": "2024-01-18T16:18:23.114909Z",
     "iopub.status.busy": "2024-01-18T16:18:23.114496Z",
     "iopub.status.idle": "2024-01-18T16:18:23.131041Z",
     "shell.execute_reply": "2024-01-18T16:18:23.130251Z"
    },
    "papermill": {
     "duration": 0.029288,
     "end_time": "2024-01-18T16:18:23.133179",
     "exception": false,
     "start_time": "2024-01-18T16:18:23.103891",
     "status": "completed"
    },
    "tags": []
   },
   "outputs": [],
   "source": [
    "model.compile(optimizer=Adam(learning_rate=0.0001), loss='sparse_categorical_crossentropy', metrics=['accuracy'])"
   ]
  },
  {
   "cell_type": "code",
   "execution_count": 16,
   "id": "c8667df8",
   "metadata": {
    "execution": {
     "iopub.execute_input": "2024-01-18T16:18:23.153463Z",
     "iopub.status.busy": "2024-01-18T16:18:23.153050Z",
     "iopub.status.idle": "2024-01-18T16:18:44.597859Z",
     "shell.execute_reply": "2024-01-18T16:18:44.596747Z"
    },
    "papermill": {
     "duration": 21.457822,
     "end_time": "2024-01-18T16:18:44.600436",
     "exception": false,
     "start_time": "2024-01-18T16:18:23.142614",
     "status": "completed"
    },
    "tags": []
   },
   "outputs": [
    {
     "name": "stdout",
     "output_type": "stream",
     "text": [
      "Epoch 1/30\n",
      "189/189 - 3s - loss: 0.6767 - accuracy: 0.5402 - val_loss: 0.6645 - val_accuracy: 0.6190 - 3s/epoch - 15ms/step\n",
      "Epoch 2/30\n",
      "189/189 - 0s - loss: 0.6568 - accuracy: 0.6429 - val_loss: 0.6347 - val_accuracy: 0.7524 - 445ms/epoch - 2ms/step\n",
      "Epoch 3/30\n",
      "189/189 - 0s - loss: 0.6288 - accuracy: 0.7534 - val_loss: 0.6028 - val_accuracy: 0.8333 - 463ms/epoch - 2ms/step\n",
      "Epoch 4/30\n",
      "189/189 - 0s - loss: 0.6006 - accuracy: 0.7841 - val_loss: 0.5698 - val_accuracy: 0.8524 - 478ms/epoch - 3ms/step\n",
      "Epoch 5/30\n",
      "189/189 - 0s - loss: 0.5711 - accuracy: 0.8037 - val_loss: 0.5353 - val_accuracy: 0.8667 - 469ms/epoch - 2ms/step\n",
      "Epoch 6/30\n",
      "189/189 - 0s - loss: 0.5407 - accuracy: 0.8222 - val_loss: 0.5007 - val_accuracy: 0.8714 - 458ms/epoch - 2ms/step\n",
      "Epoch 7/30\n",
      "189/189 - 0s - loss: 0.5106 - accuracy: 0.8349 - val_loss: 0.4665 - val_accuracy: 0.8857 - 464ms/epoch - 2ms/step\n",
      "Epoch 8/30\n",
      "189/189 - 0s - loss: 0.4809 - accuracy: 0.8556 - val_loss: 0.4335 - val_accuracy: 0.8905 - 457ms/epoch - 2ms/step\n",
      "Epoch 9/30\n",
      "189/189 - 0s - loss: 0.4530 - accuracy: 0.8587 - val_loss: 0.4032 - val_accuracy: 0.8905 - 454ms/epoch - 2ms/step\n",
      "Epoch 10/30\n",
      "189/189 - 0s - loss: 0.4276 - accuracy: 0.8741 - val_loss: 0.3758 - val_accuracy: 0.8952 - 426ms/epoch - 2ms/step\n",
      "Epoch 11/30\n",
      "189/189 - 0s - loss: 0.4049 - accuracy: 0.8836 - val_loss: 0.3512 - val_accuracy: 0.8952 - 445ms/epoch - 2ms/step\n",
      "Epoch 12/30\n",
      "189/189 - 0s - loss: 0.3849 - accuracy: 0.8868 - val_loss: 0.3298 - val_accuracy: 0.9286 - 455ms/epoch - 2ms/step\n",
      "Epoch 13/30\n",
      "189/189 - 0s - loss: 0.3676 - accuracy: 0.8963 - val_loss: 0.3114 - val_accuracy: 0.9286 - 430ms/epoch - 2ms/step\n",
      "Epoch 14/30\n",
      "189/189 - 0s - loss: 0.3526 - accuracy: 0.9095 - val_loss: 0.2952 - val_accuracy: 0.9286 - 429ms/epoch - 2ms/step\n",
      "Epoch 15/30\n",
      "189/189 - 0s - loss: 0.3403 - accuracy: 0.9058 - val_loss: 0.2819 - val_accuracy: 0.9333 - 430ms/epoch - 2ms/step\n",
      "Epoch 16/30\n",
      "189/189 - 0s - loss: 0.3296 - accuracy: 0.9116 - val_loss: 0.2703 - val_accuracy: 0.9476 - 432ms/epoch - 2ms/step\n",
      "Epoch 17/30\n",
      "189/189 - 0s - loss: 0.3205 - accuracy: 0.9127 - val_loss: 0.2608 - val_accuracy: 0.9476 - 426ms/epoch - 2ms/step\n",
      "Epoch 18/30\n",
      "189/189 - 0s - loss: 0.3129 - accuracy: 0.9159 - val_loss: 0.2521 - val_accuracy: 0.9476 - 435ms/epoch - 2ms/step\n",
      "Epoch 19/30\n",
      "189/189 - 0s - loss: 0.3064 - accuracy: 0.9164 - val_loss: 0.2452 - val_accuracy: 0.9619 - 439ms/epoch - 2ms/step\n",
      "Epoch 20/30\n",
      "189/189 - 0s - loss: 0.3011 - accuracy: 0.9190 - val_loss: 0.2390 - val_accuracy: 0.9619 - 432ms/epoch - 2ms/step\n",
      "Epoch 21/30\n",
      "189/189 - 0s - loss: 0.2963 - accuracy: 0.9222 - val_loss: 0.2333 - val_accuracy: 0.9619 - 438ms/epoch - 2ms/step\n",
      "Epoch 22/30\n",
      "189/189 - 0s - loss: 0.2925 - accuracy: 0.9206 - val_loss: 0.2286 - val_accuracy: 0.9619 - 429ms/epoch - 2ms/step\n",
      "Epoch 23/30\n",
      "189/189 - 0s - loss: 0.2890 - accuracy: 0.9238 - val_loss: 0.2248 - val_accuracy: 0.9619 - 491ms/epoch - 3ms/step\n",
      "Epoch 24/30\n",
      "189/189 - 1s - loss: 0.2860 - accuracy: 0.9228 - val_loss: 0.2217 - val_accuracy: 0.9667 - 562ms/epoch - 3ms/step\n",
      "Epoch 25/30\n",
      "189/189 - 0s - loss: 0.2836 - accuracy: 0.9259 - val_loss: 0.2183 - val_accuracy: 0.9667 - 496ms/epoch - 3ms/step\n",
      "Epoch 26/30\n",
      "189/189 - 0s - loss: 0.2814 - accuracy: 0.9302 - val_loss: 0.2156 - val_accuracy: 0.9667 - 446ms/epoch - 2ms/step\n",
      "Epoch 27/30\n",
      "189/189 - 0s - loss: 0.2793 - accuracy: 0.9280 - val_loss: 0.2131 - val_accuracy: 0.9667 - 442ms/epoch - 2ms/step\n",
      "Epoch 28/30\n",
      "189/189 - 0s - loss: 0.2776 - accuracy: 0.9302 - val_loss: 0.2111 - val_accuracy: 0.9667 - 440ms/epoch - 2ms/step\n",
      "Epoch 29/30\n",
      "189/189 - 0s - loss: 0.2761 - accuracy: 0.9286 - val_loss: 0.2090 - val_accuracy: 0.9667 - 435ms/epoch - 2ms/step\n",
      "Epoch 30/30\n",
      "189/189 - 0s - loss: 0.2745 - accuracy: 0.9307 - val_loss: 0.2077 - val_accuracy: 0.9667 - 429ms/epoch - 2ms/step\n"
     ]
    },
    {
     "data": {
      "text/plain": [
       "<keras.src.callbacks.History at 0x7836ad250f10>"
      ]
     },
     "execution_count": 16,
     "metadata": {},
     "output_type": "execute_result"
    }
   ],
   "source": [
    "model.fit(x=scaled_train_samples, y=train_labels, validation_split=0.1, batch_size=10, epochs=30, shuffle=True, verbose=2)"
   ]
  },
  {
   "cell_type": "markdown",
   "id": "33475cb0",
   "metadata": {
    "papermill": {
     "duration": 0.0141,
     "end_time": "2024-01-18T16:18:44.629767",
     "exception": false,
     "start_time": "2024-01-18T16:18:44.615667",
     "status": "completed"
    },
    "tags": []
   },
   "source": [
    "## Predict"
   ]
  },
  {
   "cell_type": "code",
   "execution_count": 17,
   "id": "d6530b5d",
   "metadata": {
    "execution": {
     "iopub.execute_input": "2024-01-18T16:18:44.660841Z",
     "iopub.status.busy": "2024-01-18T16:18:44.660444Z",
     "iopub.status.idle": "2024-01-18T16:18:44.910200Z",
     "shell.execute_reply": "2024-01-18T16:18:44.909137Z"
    },
    "papermill": {
     "duration": 0.268215,
     "end_time": "2024-01-18T16:18:44.912680",
     "exception": false,
     "start_time": "2024-01-18T16:18:44.644465",
     "status": "completed"
    },
    "tags": []
   },
   "outputs": [],
   "source": [
    "predictions = model.predict(x=scaled_test_samples, batch_size=10, verbose=0)"
   ]
  },
  {
   "cell_type": "code",
   "execution_count": 18,
   "id": "0508bad8",
   "metadata": {
    "execution": {
     "iopub.execute_input": "2024-01-18T16:18:44.945079Z",
     "iopub.status.busy": "2024-01-18T16:18:44.944205Z",
     "iopub.status.idle": "2024-01-18T16:18:44.948520Z",
     "shell.execute_reply": "2024-01-18T16:18:44.947601Z"
    },
    "papermill": {
     "duration": 0.022772,
     "end_time": "2024-01-18T16:18:44.950507",
     "exception": false,
     "start_time": "2024-01-18T16:18:44.927735",
     "status": "completed"
    },
    "tags": []
   },
   "outputs": [],
   "source": [
    "# for i in predictions:\n",
    "#     print(i)"
   ]
  },
  {
   "cell_type": "code",
   "execution_count": 19,
   "id": "0a7f1e44",
   "metadata": {
    "execution": {
     "iopub.execute_input": "2024-01-18T16:18:44.981550Z",
     "iopub.status.busy": "2024-01-18T16:18:44.980826Z",
     "iopub.status.idle": "2024-01-18T16:18:44.985576Z",
     "shell.execute_reply": "2024-01-18T16:18:44.984604Z"
    },
    "papermill": {
     "duration": 0.02257,
     "end_time": "2024-01-18T16:18:44.987675",
     "exception": false,
     "start_time": "2024-01-18T16:18:44.965105",
     "status": "completed"
    },
    "tags": []
   },
   "outputs": [],
   "source": [
    "rounded_predictions = np.argmax(predictions, axis=-1)"
   ]
  },
  {
   "cell_type": "code",
   "execution_count": 20,
   "id": "d6d92baf",
   "metadata": {
    "execution": {
     "iopub.execute_input": "2024-01-18T16:18:45.018576Z",
     "iopub.status.busy": "2024-01-18T16:18:45.017829Z",
     "iopub.status.idle": "2024-01-18T16:18:45.022047Z",
     "shell.execute_reply": "2024-01-18T16:18:45.021068Z"
    },
    "papermill": {
     "duration": 0.021841,
     "end_time": "2024-01-18T16:18:45.024169",
     "exception": false,
     "start_time": "2024-01-18T16:18:45.002328",
     "status": "completed"
    },
    "tags": []
   },
   "outputs": [],
   "source": [
    "# for i in rounded_predictions:\n",
    "#     print(i)"
   ]
  },
  {
   "cell_type": "markdown",
   "id": "f4f2fb13",
   "metadata": {
    "papermill": {
     "duration": 0.015106,
     "end_time": "2024-01-18T16:18:45.116398",
     "exception": false,
     "start_time": "2024-01-18T16:18:45.101292",
     "status": "completed"
    },
    "tags": []
   },
   "source": [
    "## Confusion Matrix"
   ]
  },
  {
   "cell_type": "code",
   "execution_count": 21,
   "id": "4d2c16f9",
   "metadata": {
    "execution": {
     "iopub.execute_input": "2024-01-18T16:18:45.148679Z",
     "iopub.status.busy": "2024-01-18T16:18:45.147955Z",
     "iopub.status.idle": "2024-01-18T16:18:45.155599Z",
     "shell.execute_reply": "2024-01-18T16:18:45.154751Z"
    },
    "papermill": {
     "duration": 0.026268,
     "end_time": "2024-01-18T16:18:45.157867",
     "exception": false,
     "start_time": "2024-01-18T16:18:45.131599",
     "status": "completed"
    },
    "tags": []
   },
   "outputs": [],
   "source": [
    "cm = confusion_matrix(y_true=test_labels, y_pred=rounded_predictions)\n",
    "labels = ['no_side_effects', 'had_side_effects']"
   ]
  },
  {
   "cell_type": "code",
   "execution_count": 22,
   "id": "42d9d33d",
   "metadata": {
    "execution": {
     "iopub.execute_input": "2024-01-18T16:18:45.189954Z",
     "iopub.status.busy": "2024-01-18T16:18:45.189585Z",
     "iopub.status.idle": "2024-01-18T16:18:45.510683Z",
     "shell.execute_reply": "2024-01-18T16:18:45.509641Z"
    },
    "papermill": {
     "duration": 0.339655,
     "end_time": "2024-01-18T16:18:45.513009",
     "exception": false,
     "start_time": "2024-01-18T16:18:45.173354",
     "status": "completed"
    },
    "tags": []
   },
   "outputs": [
    {
     "data": {
      "image/png": "[encoded data removed]",
      "text/plain": [
       "<Figure size 640x480 with 2 Axes>"
      ]
     },
     "metadata": {},
     "output_type": "display_data"
    }
   ],
   "source": [
    "disp = ConfusionMatrixDisplay(confusion_matrix=cm, display_labels=labels)\n",
    "disp.plot()\n",
    "plt.show()"
   ]
  },
  {
   "cell_type": "code",
   "execution_count": null,
   "id": "4a7c0b59",
   "metadata": {
    "papermill": {
     "duration": 0.014669,
     "end_time": "2024-01-18T16:18:45.542550",
     "exception": false,
     "start_time": "2024-01-18T16:18:45.527881",
     "status": "completed"
    },
    "tags": []
   },
   "outputs": [],
   "source": []
  }
 ],
 "metadata": {
  "kaggle": {
   "accelerator": "gpu",
   "dataSources": [],
   "dockerImageVersionId": 30636,
   "isGpuEnabled": true,
   "isInternetEnabled": true,
   "language": "python",
   "sourceType": "notebook"
  },
  "kernelspec": {
   "display_name": "Python 3",
   "language": "python",
   "name": "python3"
  },
  "language_info": {
   "codemirror_mode": {
    "name": "ipython",
    "version": 3
   },
   "file_extension": ".py",
   "mimetype": "text/x-python",
   "name": "python",
   "nbconvert_exporter": "python",
   "pygments_lexer": "ipython3",
   "version": "3.10.12"
  },
  "papermill": {
   "default_parameters": {},
   "duration": 56.566623,
   "end_time": "2024-01-18T16:18:48.443475",
   "environment_variables": {},
   "exception": null,
   "input_path": "__notebook__.ipynb",
   "output_path": "__notebook__.ipynb",
   "parameters": {},
   "start_time": "2024-01-18T16:17:51.876852",
   "version": "2.4.0"
  }
 },
 "nbformat": 4,
 "nbformat_minor": 5
}
